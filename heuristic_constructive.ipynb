{
 "cells": [
  {
   "cell_type": "code",
   "execution_count": 12,
   "metadata": {},
   "outputs": [],
   "source": [
    "import time"
   ]
  },
  {
   "cell_type": "code",
   "execution_count": 13,
   "metadata": {},
   "outputs": [],
   "source": [
    "def read_instance(file_path):\n",
    "    with open(file_path, 'r') as file:\n",
    "        lines = file.readlines()\n",
    "\n",
    "    n = int(lines[0].strip())\n",
    "    capacity = int(lines[1].strip())\n",
    "    objects = []\n",
    "\n",
    "    for line in lines[2:]:\n",
    "        values = list(map(int, line.strip().split()))\n",
    "        objects.append(values)\n",
    "\n",
    "    return n, capacity, objects"
   ]
  },
  {
   "cell_type": "code",
   "execution_count": 14,
   "metadata": {},
   "outputs": [],
   "source": [
    "def heuristic_constructive(n, capacity, objects):\n",
    "    start_time = time.time()\n",
    "\n",
    "    \n",
    "    sorted_objects = sorted(objects, key=lambda x: x[0] / x[1], reverse=True)\n",
    "\n",
    "    \n",
    "    current_capacity = 0\n",
    "    solution = [0] * n\n",
    "\n",
    "\n",
    "    for i in range(n):\n",
    "        if current_capacity + sorted_objects[i][0] <= capacity:\n",
    "            solution[i] = 1\n",
    "            current_capacity += sorted_objects[i][0]\n",
    "\n",
    "    selected_items = [sorted_objects[i] for i in range(n) if solution[i] == 1]\n",
    "    print(\"Selected Items and Their Weights:\", selected_items)\n",
    "\n",
    "    execution_time = time.time() - start_time\n",
    "\n",
    "    return selected_items, execution_time"
   ]
  },
  {
   "cell_type": "code",
   "execution_count": 15,
   "metadata": {},
   "outputs": [],
   "source": [
    "file_path =\"testPSAD/test100-SC(1).txt\""
   ]
  },
  {
   "cell_type": "code",
   "execution_count": 16,
   "metadata": {},
   "outputs": [
    {
     "name": "stdout",
     "output_type": "stream",
     "text": [
      "Selected Items and Their Weights: [[11, 1], [13, 3], [16, 6], [17, 7], [17, 7], [17, 7]]\n"
     ]
    }
   ],
   "source": [
    "n, capacity, objects = read_instance(file_path)\n",
    "solution, execution_time = heuristic_constructive(n, capacity, objects)"
   ]
  },
  {
   "cell_type": "code",
   "execution_count": 17,
   "metadata": {},
   "outputs": [
    {
     "name": "stdout",
     "output_type": "stream",
     "text": [
      "Constructed Solution: [[11, 1], [13, 3], [16, 6], [17, 7], [17, 7], [17, 7]]\n",
      "Execution Time: 0.0 seconds\n"
     ]
    }
   ],
   "source": [
    "print(\"Constructed Solution:\", solution)\n",
    "print(\"Execution Time:\", execution_time, \"seconds\")"
   ]
  }
 ],
 "metadata": {
  "kernelspec": {
   "display_name": "Python 3",
   "language": "python",
   "name": "python3"
  },
  "language_info": {
   "codemirror_mode": {
    "name": "ipython",
    "version": 3
   },
   "file_extension": ".py",
   "mimetype": "text/x-python",
   "name": "python",
   "nbconvert_exporter": "python",
   "pygments_lexer": "ipython3",
   "version": "3.11.2"
  }
 },
 "nbformat": 4,
 "nbformat_minor": 2
}
