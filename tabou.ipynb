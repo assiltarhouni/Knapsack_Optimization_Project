{
 "cells": [
  {
   "cell_type": "code",
   "execution_count": 5,
   "metadata": {},
   "outputs": [],
   "source": [
    "import time\n",
    "import random\n",
    "import copy\n",
    "import pandas as pd"
   ]
  },
  {
   "cell_type": "code",
   "execution_count": 2,
   "metadata": {},
   "outputs": [],
   "source": [
    "def read_instance(file_path):\n",
    "    with open(file_path, 'r') as file:\n",
    "        lines = file.readlines()\n",
    "\n",
    "    n = int(lines[0].strip())\n",
    "    capacity = int(lines[1].strip())\n",
    "    objects = []\n",
    "\n",
    "    for line in lines[2:]:\n",
    "        values = list(map(int, line.strip().split()))\n",
    "        objects.append(values)\n",
    "\n",
    "    return n, capacity, objects"
   ]
  },
  {
   "cell_type": "code",
   "execution_count": 3,
   "metadata": {},
   "outputs": [],
   "source": [
    "def evaluate_solution(solution, objects):\n",
    "    total_value = sum(solution[i] * objects[i][0] for i in range(len(solution)))\n",
    "    return total_value"
   ]
  },
  {
   "cell_type": "code",
   "execution_count": 4,
   "metadata": {},
   "outputs": [],
   "source": [
    "def heuristic_constructive(n, capacity, objects):\n",
    "    start_time = time.time()\n",
    "\n",
    "    sorted_objects = sorted(objects, key=lambda x: x[0] / x[1], reverse=True)\n",
    "\n",
    "    current_capacity = 0\n",
    "    solution = [0] * n\n",
    "\n",
    "    for i in range(n):\n",
    "        if current_capacity + sorted_objects[i][0] <= capacity:\n",
    "            solution[i] = 1\n",
    "            current_capacity += sorted_objects[i][0]\n",
    "\n",
    "    selected_items = [(sorted_objects[i][0], sorted_objects[i][1]) for i in range(n) if solution[i] == 1]\n",
    "    print(\"Selected Items and Their Weights:\", selected_items)\n",
    "\n",
    "    execution_time = time.time() - start_time\n",
    "\n",
    "    return solution, execution_time"
   ]
  },
  {
   "cell_type": "code",
   "execution_count": 10,
   "metadata": {},
   "outputs": [],
   "source": [
    "def tabu_search(n, capacity, objects, max_iterations, tabu_size):\n",
    "    current_solution, _ = heuristic_constructive(n, capacity, objects)\n",
    "    current_value = evaluate_solution(current_solution, objects)\n",
    "\n",
    "    start_time = time.time()\n",
    "\n",
    "    tabu_list = []\n",
    "\n",
    "    for _ in range(max_iterations):\n",
    "        best_neighbor_solution = None\n",
    "        best_neighbor_value = float('-inf')\n",
    "\n",
    "        for i in range(len(current_solution)):\n",
    "            # Try removing the item\n",
    "            neighbor_solution = copy.deepcopy(current_solution)\n",
    "            neighbor_solution[i] = 1 - neighbor_solution[i]  # Flip the value\n",
    "            neighbor_value = evaluate_solution(neighbor_solution, objects)\n",
    "\n",
    "            if (\n",
    "                sum(objects[j][1] for j in neighbor_solution) <= capacity\n",
    "                and neighbor_value > best_neighbor_value\n",
    "                and neighbor_solution not in tabu_list\n",
    "            ):\n",
    "                best_neighbor_solution = neighbor_solution\n",
    "                best_neighbor_value = neighbor_value\n",
    "\n",
    "        if best_neighbor_solution is not None:\n",
    "            current_solution = best_neighbor_solution\n",
    "            current_value = best_neighbor_value\n",
    "            tabu_list.append(best_neighbor_solution)\n",
    "            if len(tabu_list) > tabu_size:\n",
    "                tabu_list.pop(0)  # Remove the oldest solution from the tabu list\n",
    "\n",
    "    execution_time = time.time() - start_time\n",
    "\n",
    "    return current_solution, execution_time"
   ]
  },
  {
   "cell_type": "code",
   "execution_count": 12,
   "metadata": {},
   "outputs": [
    {
     "name": "stdout",
     "output_type": "stream",
     "text": [
      "Selected Items and Their Weights: [(11, 1), (13, 3), (16, 6), (17, 7), (17, 7), (17, 7)]\n"
     ]
    }
   ],
   "source": [
    "file_path = \"testPSAD/test100-SC(1).txt\"\n",
    "n, capacity, objects = read_instance(file_path)\n",
    "max_iterations = 100\n",
    "tabu_size = 5\n",
    "tabu_solution, tabu_time = tabu_search(n, capacity, objects, max_iterations, tabu_size)\n"
   ]
  }
 ],
 "metadata": {
  "kernelspec": {
   "display_name": "Python 3",
   "language": "python",
   "name": "python3"
  },
  "language_info": {
   "codemirror_mode": {
    "name": "ipython",
    "version": 3
   },
   "file_extension": ".py",
   "mimetype": "text/x-python",
   "name": "python",
   "nbconvert_exporter": "python",
   "pygments_lexer": "ipython3",
   "version": "3.11.2"
  }
 },
 "nbformat": 4,
 "nbformat_minor": 2
}
