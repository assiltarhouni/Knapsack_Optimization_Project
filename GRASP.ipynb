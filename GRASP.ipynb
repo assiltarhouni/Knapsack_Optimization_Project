{
 "cells": [
  {
   "cell_type": "code",
   "execution_count": 1,
   "metadata": {},
   "outputs": [],
   "source": [
    "import random\n",
    "import copy\n",
    "import time"
   ]
  },
  {
   "cell_type": "code",
   "execution_count": 2,
   "metadata": {},
   "outputs": [],
   "source": [
    "def read_instance(file_path):\n",
    "    with open(file_path, 'r') as file:\n",
    "        lines = file.readlines()\n",
    "\n",
    "    n = int(lines[0].strip())\n",
    "    capacity = int(lines[1].strip())\n",
    "    objects = []\n",
    "\n",
    "    for line in lines[2:]:\n",
    "        values = list(map(int, line.strip().split()))\n",
    "        objects.append(values)\n",
    "\n",
    "    return n, capacity, objects"
   ]
  },
  {
   "cell_type": "code",
   "execution_count": 3,
   "metadata": {},
   "outputs": [],
   "source": [
    "def evaluate_solution(solution, objects):\n",
    "    total_value = sum(solution[i] * objects[i][0] for i in range(len(solution)))\n",
    "    return total_value\n",
    "\n",
    "def randomized_constructive_heuristic(n, capacity, objects):\n",
    "    start_time = time.time()\n",
    "\n",
    "    random_objects = random.sample(objects, len(objects))\n",
    "    current_capacity = 0\n",
    "    solution = [0] * n\n",
    "\n",
    "    for i in range(n):\n",
    "        if current_capacity + random_objects[i][0] <= capacity:\n",
    "            solution[i] = 1\n",
    "            current_capacity += random_objects[i][0]\n",
    "\n",
    "    selected_items = [(random_objects[i][0], random_objects[i][1]) for i in range(n) if solution[i] == 1]\n",
    "    print(\"Randomized Constructive Solution:\", selected_items)\n",
    "\n",
    "    execution_time = time.time() - start_time\n",
    "\n",
    "    return solution, execution_time"
   ]
  },
  {
   "cell_type": "code",
   "execution_count": 4,
   "metadata": {},
   "outputs": [],
   "source": [
    "def local_search_iterative(initial_solution, capacity, objects, max_iterations):\n",
    "    current_solution = copy.deepcopy(initial_solution)\n",
    "    current_value = evaluate_solution(current_solution, objects)\n",
    "\n",
    "    start_time = time.time()\n",
    "\n",
    "    iteration = 0\n",
    "    improvement = True\n",
    "    while improvement and iteration < max_iterations:\n",
    "        improvement = False\n",
    "        for i in range(len(current_solution)):\n",
    "            # Try removing the item\n",
    "            neighbor_solution = copy.deepcopy(current_solution)\n",
    "            neighbor_solution.pop(i)\n",
    "            neighbor_value = evaluate_solution(neighbor_solution, objects)\n",
    "\n",
    "            if (\n",
    "                sum(objects[j][1] for j in neighbor_solution) <= capacity\n",
    "                and neighbor_value > current_value\n",
    "            ):\n",
    "                current_solution = neighbor_solution\n",
    "                current_value = neighbor_value\n",
    "                improvement = True\n",
    "\n",
    "        iteration += 1\n",
    "\n",
    "    selected_items = [(objects[i][0], objects[i][1]) for i in range(len(current_solution)) if current_solution[i] == 1]\n",
    "    print(\"Local Search Solution:\", selected_items)\n",
    "\n",
    "    execution_time = time.time() - start_time\n",
    "\n",
    "    return current_solution, execution_time"
   ]
  },
  {
   "cell_type": "code",
   "execution_count": 5,
   "metadata": {},
   "outputs": [],
   "source": [
    "def grasp_metaheuristic(n, capacity, objects, max_iterations):\n",
    "    # Step 1: Construct an initial solution using the randomized constructive heuristic\n",
    "    initial_solution, constructive_time = randomized_constructive_heuristic(n, capacity, objects)\n",
    "\n",
    "    # Step 2: Improve the initial solution using local search\n",
    "    local_search_solution, local_search_time = local_search_iterative(initial_solution, capacity, objects, max_iterations)\n",
    "\n",
    "    return local_search_solution, constructive_time + local_search_time"
   ]
  },
  {
   "cell_type": "code",
   "execution_count": 9,
   "metadata": {},
   "outputs": [
    {
     "name": "stdout",
     "output_type": "stream",
     "text": [
      "Randomized Constructive Solution: [(54, 44), (43, 33)]\n",
      "Local Search Solution: [(104, 94), (26, 16)]\n"
     ]
    }
   ],
   "source": [
    "file_path = \"testPSAD/test100-SC(1).txt\"\n",
    "n, capacity, objects = read_instance(file_path)\n",
    "max_iterations = 100\n",
    "grasp_solution, grasp_time = grasp_metaheuristic(n, capacity, objects, max_iterations)"
   ]
  },
  {
   "cell_type": "code",
   "execution_count": 10,
   "metadata": {},
   "outputs": [
    {
     "name": "stdout",
     "output_type": "stream",
     "text": [
      "Final GRASP Solution:\n",
      "(104, 94)\n",
      "(26, 16)\n",
      "Execution Time: 0.0032622814178466797 seconds\n"
     ]
    }
   ],
   "source": [
    "selected_items = [(objects[i][0], objects[i][1]) for i in range(len(grasp_solution)) if grasp_solution[i] == 1]\n",
    "print(\"Final GRASP Solution:\")\n",
    "for item in selected_items:\n",
    "    print(f\"({item[0]}, {item[1]})\")\n",
    "print(\"Execution Time:\", grasp_time, \"seconds\")"
   ]
  }
 ],
 "metadata": {
  "kernelspec": {
   "display_name": "Python 3",
   "language": "python",
   "name": "python3"
  },
  "language_info": {
   "codemirror_mode": {
    "name": "ipython",
    "version": 3
   },
   "file_extension": ".py",
   "mimetype": "text/x-python",
   "name": "python",
   "nbconvert_exporter": "python",
   "pygments_lexer": "ipython3",
   "version": "3.11.2"
  }
 },
 "nbformat": 4,
 "nbformat_minor": 2
}
