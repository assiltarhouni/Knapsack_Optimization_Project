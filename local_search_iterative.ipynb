{
 "cells": [
  {
   "cell_type": "code",
   "execution_count": 1,
   "metadata": {},
   "outputs": [],
   "source": [
    "import time\n",
    "import copy"
   ]
  },
  {
   "cell_type": "code",
   "execution_count": 2,
   "metadata": {},
   "outputs": [],
   "source": [
    "def read_instance(file_path):\n",
    "    with open(file_path, 'r') as file:\n",
    "        lines = file.readlines()\n",
    "\n",
    "    n = int(lines[0].strip())\n",
    "    capacity = int(lines[1].strip())\n",
    "    objects = []\n",
    "\n",
    "    for line in lines[2:]:\n",
    "        values = list(map(int, line.strip().split()))\n",
    "        objects.append(values)\n",
    "\n",
    "    return n, capacity, objects"
   ]
  },
  {
   "cell_type": "code",
   "execution_count": 3,
   "metadata": {},
   "outputs": [],
   "source": [
    "def evaluate_solution(solution, objects):\n",
    "    total_value = sum(solution[i] * objects[i][0] for i in range(len(solution)))\n",
    "    return total_value\n"
   ]
  },
  {
   "cell_type": "code",
   "execution_count": 4,
   "metadata": {},
   "outputs": [],
   "source": [
    "def heuristic_constructive(n, capacity, objects):\n",
    "    start_time = time.time()\n",
    "\n",
    "    sorted_objects = sorted(objects, key=lambda x: x[0] / x[1], reverse=True)\n",
    "\n",
    "    current_capacity = 0\n",
    "    solution = [0] * n\n",
    "\n",
    "    for i in range(n):\n",
    "        if current_capacity + sorted_objects[i][0] <= capacity:\n",
    "            solution[i] = 1\n",
    "            current_capacity += sorted_objects[i][0]\n",
    "\n",
    "    execution_time = time.time() - start_time\n",
    "\n",
    "    return solution, execution_time"
   ]
  },
  {
   "cell_type": "code",
   "execution_count": 7,
   "metadata": {},
   "outputs": [],
   "source": [
    "def local_search_iterative(initial_solution, capacity, objects, max_iterations):\n",
    "    current_solution = copy.deepcopy(initial_solution)\n",
    "    current_value = evaluate_solution(current_solution, objects)\n",
    "\n",
    "    start_time = time.time()\n",
    "\n",
    "    iteration = 0\n",
    "    improvement = True\n",
    "    while improvement and iteration < max_iterations:\n",
    "        improvement = False\n",
    "        for i in range(len(current_solution)):\n",
    "            \n",
    "            neighbor_solution = copy.deepcopy(current_solution)\n",
    "            neighbor_solution[i] = 0\n",
    "            neighbor_value = evaluate_solution(neighbor_solution, objects)\n",
    "\n",
    "            if (\n",
    "                sum(objects[j][1] for j in range(len(objects)) if j in neighbor_solution) <= capacity\n",
    "                and neighbor_value > current_value\n",
    "            ):\n",
    "                current_solution = neighbor_solution\n",
    "                current_value = neighbor_value\n",
    "                improvement = True\n",
    "\n",
    "        iteration += 1\n",
    "\n",
    "    selected_items = [(objects[i][0], objects[i][1]) for i in range(len(current_solution)) if current_solution[i] == 1]\n",
    "    print(\"Selected Items and Their Weights:\", selected_items)\n",
    "    execution_time = time.time() - start_time\n",
    "\n",
    "    return selected_items, execution_time"
   ]
  },
  {
   "cell_type": "code",
   "execution_count": 8,
   "metadata": {},
   "outputs": [
    {
     "name": "stdout",
     "output_type": "stream",
     "text": [
      "Selected Items and Their Weights: [(95, 85), (104, 94), (36, 26), (16, 6), (58, 48), (26, 16)]\n"
     ]
    }
   ],
   "source": [
    "file_path =\"testPSAD/test100-SC(1).txt\"\n",
    "n, capacity, objects = read_instance(file_path)\n",
    "max_iterations = 100\n",
    "initial_solution, _ = heuristic_constructive(n, capacity, objects)\n",
    "local_search_solution, local_search_time = local_search_iterative(initial_solution, capacity, objects, max_iterations)"
   ]
  },
  {
   "cell_type": "code",
   "execution_count": 9,
   "metadata": {},
   "outputs": [
    {
     "name": "stdout",
     "output_type": "stream",
     "text": [
      "Selected Items and Their Weights: [(95, 85), (104, 94), (36, 26), (16, 6), (58, 48), (26, 16)]\n"
     ]
    }
   ],
   "source": [
    "print(\"Selected Items and Their Weights:\", local_search_solution)\n"
   ]
  },
  {
   "cell_type": "code",
   "execution_count": 10,
   "metadata": {},
   "outputs": [
    {
     "name": "stdout",
     "output_type": "stream",
     "text": [
      "Local Search Solution:\n",
      "(95, 85)\n",
      "(104, 94)\n",
      "(36, 26)\n",
      "(16, 6)\n",
      "(58, 48)\n",
      "(26, 16)\n",
      "Execution Time: 0.008003711700439453 seconds\n"
     ]
    }
   ],
   "source": [
    "print(\"Local Search Solution:\")\n",
    "for item in local_search_solution:\n",
    "    print(f\"({item[0]}, {item[1]})\")\n",
    "print(\"Execution Time:\", local_search_time, \"seconds\")"
   ]
  }
 ],
 "metadata": {
  "kernelspec": {
   "display_name": "Python 3",
   "language": "python",
   "name": "python3"
  },
  "language_info": {
   "codemirror_mode": {
    "name": "ipython",
    "version": 3
   },
   "file_extension": ".py",
   "mimetype": "text/x-python",
   "name": "python",
   "nbconvert_exporter": "python",
   "pygments_lexer": "ipython3",
   "version": "3.11.2"
  }
 },
 "nbformat": 4,
 "nbformat_minor": 2
}
