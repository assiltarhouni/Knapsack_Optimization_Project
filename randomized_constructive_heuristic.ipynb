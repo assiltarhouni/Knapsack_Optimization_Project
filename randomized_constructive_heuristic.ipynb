{
 "cells": [
  {
   "cell_type": "code",
   "execution_count": 6,
   "metadata": {},
   "outputs": [],
   "source": [
    "import random\n",
    "import time"
   ]
  },
  {
   "cell_type": "code",
   "execution_count": 4,
   "metadata": {},
   "outputs": [],
   "source": [
    "def read_instance(file_path):\n",
    "    with open(file_path, 'r') as file:\n",
    "        lines = file.readlines()\n",
    "\n",
    "    n = int(lines[0].strip())\n",
    "    capacity = int(lines[1].strip())\n",
    "    objects = []\n",
    "\n",
    "    for line in lines[2:]:\n",
    "        values = list(map(int, line.strip().split()))\n",
    "        objects.append(values)\n",
    "\n",
    "    return n, capacity, objects"
   ]
  },
  {
   "cell_type": "code",
   "execution_count": 2,
   "metadata": {},
   "outputs": [],
   "source": [
    "def randomized_constructive_heuristic(n, capacity, objects):\n",
    "    start_time = time.time()\n",
    "\n",
    "    # Shuffle the objects randomly\n",
    "    random_objects = random.sample(objects, len(objects))\n",
    "\n",
    "    current_capacity = 0\n",
    "    solution = [0] * n\n",
    "\n",
    "    for i in range(n):\n",
    "        if current_capacity + random_objects[i][0] <= capacity:\n",
    "            solution[i] = 1\n",
    "            current_capacity += random_objects[i][0]\n",
    "\n",
    "    selected_items = [(random_objects[i][0], random_objects[i][1]) for i in range(n) if solution[i] == 1]\n",
    "    print(\"Selected Items and Their Weights:\", selected_items)\n",
    "\n",
    "    execution_time = time.time() - start_time\n",
    "\n",
    "    return selected_items, execution_time"
   ]
  },
  {
   "cell_type": "code",
   "execution_count": 9,
   "metadata": {},
   "outputs": [
    {
     "name": "stdout",
     "output_type": "stream",
     "text": [
      "Selected Items and Their Weights: [(77, 67), (17, 7)]\n"
     ]
    }
   ],
   "source": [
    "file_path = \"testPSAD/test100-SC(1).txt\"\n",
    "n, capacity, objects = read_instance(file_path)\n",
    "randomized_solution, randomized_time = randomized_constructive_heuristic(n, capacity, objects)"
   ]
  },
  {
   "cell_type": "code",
   "execution_count": 10,
   "metadata": {},
   "outputs": [
    {
     "name": "stdout",
     "output_type": "stream",
     "text": [
      "Randomized Solution:\n",
      "(77, 67)\n",
      "(17, 7)\n",
      "Execution Time: 0.0 seconds\n"
     ]
    }
   ],
   "source": [
    "print(\"Randomized Solution:\")\n",
    "for item in randomized_solution:\n",
    "    print(f\"({item[0]}, {item[1]})\")\n",
    "print(\"Execution Time:\", randomized_time, \"seconds\")"
   ]
  }
 ],
 "metadata": {
  "kernelspec": {
   "display_name": "Python 3",
   "language": "python",
   "name": "python3"
  },
  "language_info": {
   "codemirror_mode": {
    "name": "ipython",
    "version": 3
   },
   "file_extension": ".py",
   "mimetype": "text/x-python",
   "name": "python",
   "nbconvert_exporter": "python",
   "pygments_lexer": "ipython3",
   "version": "3.11.2"
  }
 },
 "nbformat": 4,
 "nbformat_minor": 2
}
